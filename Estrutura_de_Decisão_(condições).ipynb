{
  "nbformat": 4,
  "nbformat_minor": 0,
  "metadata": {
    "colab": {
      "provenance": [],
      "authorship_tag": "ABX9TyNRlmGcgs5Q+1FA4+k2hnv4",
      "include_colab_link": true
    },
    "kernelspec": {
      "name": "python3",
      "display_name": "Python 3"
    },
    "language_info": {
      "name": "python"
    }
  },
  "cells": [
    {
      "cell_type": "markdown",
      "metadata": {
        "id": "view-in-github",
        "colab_type": "text"
      },
      "source": [
        "<a href=\"https://colab.research.google.com/github/BabiCabral/Estudos_Python/blob/main/Estrutura_de_Decis%C3%A3o_(condi%C3%A7%C3%B5es).ipynb\" target=\"_parent\"><img src=\"https://colab.research.google.com/assets/colab-badge.svg\" alt=\"Open In Colab\"/></a>"
      ]
    },
    {
      "cell_type": "code",
      "execution_count": 6,
      "metadata": {
        "colab": {
          "base_uri": "https://localhost:8080/"
        },
        "id": "KdxDlEwGlUpt",
        "outputId": "df6b54eb-cafb-458d-d5b0-c6154858c354"
      },
      "outputs": [
        {
          "output_type": "stream",
          "name": "stdout",
          "text": [
            "Jovem adulta\n"
          ]
        }
      ],
      "source": [
        "idade = 27\n",
        "\n",
        "if idade<18:\n",
        "  print(f'Menor de idade')\n",
        "elif idade>=18 and idade<=30:\n",
        "  print(f'Jovem adulta')\n",
        "elif idade>30 and idade<60:\n",
        "  print(f'Adulta')\n",
        "else:\n",
        "  print(f'idosa')"
      ]
    }
  ]
}