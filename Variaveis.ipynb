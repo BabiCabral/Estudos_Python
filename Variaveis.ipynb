{
  "nbformat": 4,
  "nbformat_minor": 0,
  "metadata": {
    "colab": {
      "provenance": [],
      "authorship_tag": "ABX9TyPn4p7jM6cGPYm2G1rEMl4S",
      "include_colab_link": true
    },
    "kernelspec": {
      "name": "python3",
      "display_name": "Python 3"
    },
    "language_info": {
      "name": "python"
    }
  },
  "cells": [
    {
      "cell_type": "markdown",
      "metadata": {
        "id": "view-in-github",
        "colab_type": "text"
      },
      "source": [
        "<a href=\"https://colab.research.google.com/github/BabiCabral/Estudos_Python/blob/main/Variaveis.ipynb\" target=\"_parent\"><img src=\"https://colab.research.google.com/assets/colab-badge.svg\" alt=\"Open In Colab\"/></a>"
      ]
    },
    {
      "cell_type": "code",
      "execution_count": 6,
      "metadata": {
        "colab": {
          "base_uri": "https://localhost:8080/"
        },
        "id": "KEirO24FgYv5",
        "outputId": "6120d78b-57e7-4d4e-d3a0-d40c6c59ea83"
      },
      "outputs": [
        {
          "output_type": "stream",
          "name": "stdout",
          "text": [
            "Qual o seu nome: babi\n",
            "Quantos anos você tem: 27\n",
            "Qual cidade reside: recife\n",
            "Você está estudando programação: (s,n)s\n",
            "Olá babi, dados informados: Idade: 27, Cidade: recife, estudante de prog: True\n",
            "Maior de idade: True\n",
            "Você tem 26 anos False\n",
            "Vovê tem entre 18 e 30 anos True\n",
            "Você não tem 25 anos True\n"
          ]
        }
      ],
      "source": [
        "nome=(input(\"Qual o seu nome: \"))\n",
        "idade=int(input(\"Quantos anos você tem: \"))\n",
        "cidade=(input(\"Qual cidade reside: \"))\n",
        "estudante=bool(input(\"Você está estudando programação: (s,n)\"))\n",
        "\n",
        "print(f'Olá me chamo {nome}, tenho {idade}, moro em {cidade}. Estudante de prog: {estudante}')\n",
        "print(f'Maior de idade: {idade>=18}')\n",
        "print(f'Você tem 26 anos {idade==26}')\n",
        "print(f'Vovê tem entre 18 e 30 anos {idade>=18 and idade<=30}')\n",
        "print(f'Você não tem 25 anos {idade!=25}')"
      ]
    }
  ]
}